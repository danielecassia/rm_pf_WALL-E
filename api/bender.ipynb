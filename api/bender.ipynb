{
 "cells": [
  {
   "cell_type": "markdown",
   "metadata": {},
   "source": [
    "# TP3 Robótica Movel\n",
    "\n",
    "## Alunos\n",
    "- Bernardo Nogueira Borges 2020006396\n",
    "- Daniele Cassia Silva Diniz 2020076874\n",
    "\n",
    "O objetivo deste trabalho prático é familiarizar o aluno com técnicas de exploração e mapeamento, onde\n",
    "deverá ser implementado o algoritmo de Occupancy Grid. "
   ]
  },
  {
   "cell_type": "markdown",
   "metadata": {},
   "source": [
    "### Importando Libs"
   ]
  },
  {
   "cell_type": "code",
   "execution_count": 86,
   "metadata": {},
   "outputs": [],
   "source": [
    "from collections import deque\n",
    "from coppeliasim_zmqremoteapi_client import RemoteAPIClient\n",
    "from skimage.draw import line\n",
    "import math\n",
    "import matplotlib.pyplot as plt\n",
    "import numpy as np\n",
    "\n",
    "client = RemoteAPIClient()\n",
    "sim = client.require('sim')\n",
    "np.set_printoptions(precision=3,suppress=True)\n",
    "\n",
    "# Flag para evitar figuras nao utilizadas\n",
    "CREATE_PLOTS = True"
   ]
  },
  {
   "cell_type": "markdown",
   "metadata": {},
   "source": [
    "## Definição do robô\n",
    "Você deve utilizar o robô diferencial Kobuki equipado com um laser. Esse robô é semelhante aos “robôs\n",
    "aspiradores” tradicionais, e ele já está disponível nas cenas de simulação. Caso necessário, para\n",
    "determinar o modelo cinemático, você pode obter algumas especificações técnicas do robô em:\n",
    "https://yujinrobot.github.io/kobuki/enAppendixKobukiParameters.html\n",
    "Valores testados em simulação e que tiveram bons resultados (mas que você pode/deve ajustar) são:\n",
    "𝐿 = 0.230\n",
    "𝑟 = 0.035"
   ]
  },
  {
   "cell_type": "markdown",
   "metadata": {},
   "source": [
    "### Robô e Matrizes"
   ]
  },
  {
   "cell_type": "code",
   "execution_count": 87,
   "metadata": {},
   "outputs": [],
   "source": [
    "# Iniciar o kobuki\n",
    "robot = sim.getObject(\"/kobuki\")\n",
    "L = 0.230\n",
    "r = 0.035\n",
    "\n",
    "left_motor = sim.getObject(\"/kobuki/kobuki_leftMotor\")\n",
    "right_motor = sim.getObject(\"/kobuki/kobuki_rightMotor\")\n",
    "\n",
    "# Objetivo\n",
    "goal_object = sim.getObject(\"/Goal\")\n",
    "sim.setObjectPosition(goal_object,sim.getObjectPosition(robot))\n",
    "\n",
    "def getObjectXY(obj):\n",
    "    *q, _ = sim.getObjectPosition(obj)\n",
    "    return np.array(q[:2])\n",
    "\n",
    "def getObjectAngle(obj):\n",
    "    ori = sim.getObjectOrientation(obj)\n",
    "    return ori[2]\n"
   ]
  },
  {
   "cell_type": "markdown",
   "metadata": {},
   "source": [
    "## Occupancy Grid"
   ]
  },
  {
   "cell_type": "markdown",
   "metadata": {},
   "source": [
    "### Criação do Grid"
   ]
  },
  {
   "cell_type": "code",
   "execution_count": 88,
   "metadata": {},
   "outputs": [
    {
     "name": "stdout",
     "output_type": "stream",
     "text": [
      "rows=100 cols=100\n"
     ]
    }
   ],
   "source": [
    "cell_size = 0.1\n",
    "map_size = np.array([10, 10])\n",
    "rows, cols = (map_size/cell_size).astype(int)\n",
    "print(f\"rows={rows} cols={cols}\")\n",
    "grid = np.full((rows, cols), 0.5)"
   ]
  },
  {
   "cell_type": "markdown",
   "metadata": {},
   "source": [
    "### Conversão coordenandas grid - cena"
   ]
  },
  {
   "cell_type": "code",
   "execution_count": 89,
   "metadata": {},
   "outputs": [],
   "source": [
    "def sceneToGrid(coords):\n",
    "    sx, sy = coords\n",
    "    gx = int((sx+5) / cell_size)\n",
    "    gy = int((sy+5) / cell_size)\n",
    "    return gx, gy\n",
    "\n",
    "\n",
    "def gridToScene(coords):\n",
    "    gx, gy = coords\n",
    "    sx = (gx * cell_size) - 5 + (cell_size/2)\n",
    "    sy = (gy * cell_size) - 5 + (cell_size/2)\n",
    "    return sx, sy"
   ]
  },
  {
   "cell_type": "markdown",
   "metadata": {},
   "source": [
    "### Interpretações dos valores do Grid"
   ]
  },
  {
   "cell_type": "code",
   "execution_count": 90,
   "metadata": {},
   "outputs": [
    {
     "data": {
      "image/png": "[encoded data removed]",
      "text/plain": [
       "<Figure size 800x800 with 2 Axes>"
      ]
     },
     "metadata": {},
     "output_type": "display_data"
    }
   ],
   "source": [
    "def out_of_bounds(x, y):\n",
    "    return not (0 <= x < cols) and not (0 <= y < rows)\n",
    "\n",
    "def show_occupancy_grid(plotname=None):\n",
    "    fig = plt.figure(figsize=(8, 8), dpi=100)\n",
    "    ax = fig.add_subplot(111, aspect='equal')\n",
    "    plt.imshow(grid, cmap='Greys', origin='lower', extent=(-5, 5, -5, 5))\n",
    "    ax.set_xticks(np.arange(-5, 5, 1))\n",
    "    ax.set_yticks(np.arange(-5, 5, 1))\n",
    "    plt.colorbar()\n",
    "    if plotname:\n",
    "        plt.savefig(f\"../images/{plotname}.png\")\n",
    "    plt.show()\n",
    "\n",
    "if CREATE_PLOTS:\n",
    "    show_occupancy_grid()"
   ]
  },
  {
   "cell_type": "markdown",
   "metadata": {},
   "source": [
    "### Log-odds\n",
    "$$l(A) = \\log (o(A)) = log (\\frac{p(A)}{p(\\neg A)}) = log (\\frac{p(A)}{1 - p(A)})$$"
   ]
  },
  {
   "cell_type": "code",
   "execution_count": 91,
   "metadata": {},
   "outputs": [],
   "source": [
    "def log_odds(p):\n",
    "    # Avoid division by zero\n",
    "    if p < 0.0001:\n",
    "        p = 0.0001\n",
    "    if p > 0.9999:\n",
    "        p = 0.9999\n",
    "    return np.log(p/(1-p))\n",
    "\n",
    "\n",
    "def inv_log_odds(lodd):\n",
    "    return 1 - 1/(1 + np.exp(lodd))\n",
    "\n",
    "\n",
    "l_occ = log_odds(0.85)\n",
    "l_free = log_odds(0.1)"
   ]
  },
  {
   "cell_type": "markdown",
   "metadata": {},
   "source": [
    "### Inverse Sensor Model"
   ]
  },
  {
   "cell_type": "code",
   "execution_count": 92,
   "metadata": {},
   "outputs": [],
   "source": [
    "def inverse_sensor_model(xi, yi, xo, yo, z_t_k):\n",
    "    r = math.sqrt((xi - xo)**2 + (yi - yo)**2)\n",
    "\n",
    "    alpha = 0.2 / cell_size\n",
    "\n",
    "    if r < (z_t_k - alpha):\n",
    "        return l_free\n",
    "    if r < (z_t_k + alpha):\n",
    "        return l_occ\n",
    "\n",
    "    # No info\n",
    "    return grid[yo][xo]"
   ]
  },
  {
   "cell_type": "markdown",
   "metadata": {},
   "source": [
    "### Occupancy Grid Mapping"
   ]
  },
  {
   "cell_type": "code",
   "execution_count": 93,
   "metadata": {},
   "outputs": [],
   "source": [
    "def occupancy_grid_mapping(xo, yo, xf, yf):\n",
    "    z_t = math.sqrt((xf - xo)**2 + (yf - yo)**2)\n",
    "    rr, cc = line(xo, yo, xf, yf)\n",
    "    for xi, yi in zip(rr, cc):\n",
    "        if out_of_bounds(xi, yi):\n",
    "            continue\n",
    "        l_t = log_odds(grid[yi][xi])\n",
    "        grid[yi][xi] = inv_log_odds(\n",
    "            l_t + inverse_sensor_model(xi, yi, xo, yo, z_t))"
   ]
  },
  {
   "cell_type": "markdown",
   "metadata": {},
   "source": [
    "## Fazendo Leituras\n",
    "Para melhor visualizar a aplicabilidade da técnica, adicione um pequeno ruído\n",
    "aleatório na leitura do laser, por exemplo, na distância medida e/ou ângulo de\n",
    "leitura. Caso queira, você também pode variar o ruído e verificar qual o\n",
    "impacto da qualidade do sensor no mapa final"
   ]
  },
  {
   "cell_type": "code",
   "execution_count": 94,
   "metadata": {},
   "outputs": [],
   "source": [
    "def readSensorData():\n",
    "    # ? Atualizacao da funcao simxGetStringSignal\n",
    "    string_range_data = sim.getStringSignal(\"hokuyo_range_data\")\n",
    "    string_angle_data = sim.getStringSignal(\"hokuyo_angle_data\")\n",
    "\n",
    "    # Verifica se os dados foram obtidos corretamente\n",
    "    if string_range_data == None or string_angle_data == None:\n",
    "        return None\n",
    "\n",
    "    # unpack dos dados de range e angulos do sensor\n",
    "    raw_range_data = sim.unpackFloatTable(string_range_data)\n",
    "    raw_angle_data = sim.unpackFloatTable(string_angle_data)\n",
    "    return raw_range_data, raw_angle_data\n",
    "\n",
    "\n",
    "def getLaserData():\n",
    "    # Em loop até garantir que as leituras serão válidas\n",
    "    sensor_data = readSensorData()\n",
    "    while sensor_data == None:\n",
    "        sensor_data = readSensorData()\n",
    "\n",
    "    raw_range_data, raw_angle_data = sensor_data\n",
    "    laser_data = np.array([raw_angle_data, raw_range_data]).T\n",
    "    return laser_data\n",
    "\n",
    "\n",
    "def robotLaserTransformationMatrix():\n",
    "    obj = sim.getObject(\"/fastHokuyo\")\n",
    "    M = sim.getObjectMatrix(obj, robot)\n",
    "    M = np.array(M).reshape(-1, 4)\n",
    "    return M\n",
    "\n",
    "\n",
    "MAX_SENSOR_RANGE = 5.0\n",
    "\n",
    "\n",
    "def getObstaclePositions(laser_data):\n",
    "    # Matriz de transformação laser -> robô\n",
    "    Trl = robotLaserTransformationMatrix()\n",
    "    Trl = np.vstack([Trl, [0, 0, 0, 1]])\n",
    "    # Matriz de transformação robô -> mundo\n",
    "    Twr = sim.getObjectMatrix(robot)\n",
    "    Twr = np.vstack([np.array(Twr).reshape(3, 4), [0, 0, 0, 1]])\n",
    "\n",
    "    def in_range(laser_read):\n",
    "        _, dist = laser_read\n",
    "        return dist <= MAX_SENSOR_RANGE - 0.1\n",
    "\n",
    "    obs = filter(in_range, laser_data)\n",
    "\n",
    "    # ? Adicionar ruido ao sensor\n",
    "    def add_noise(laser_read):\n",
    "        ang, dist = laser_read\n",
    "        noise = np.random.normal(0, 0.05)\n",
    "        return (ang, dist+noise)\n",
    "\n",
    "    obs = map(add_noise, obs)\n",
    "\n",
    "    def laser_read_to_point(laser_read):\n",
    "        ang, dist = laser_read\n",
    "        x = dist * np.cos(ang)\n",
    "        y = dist * np.sin(ang)\n",
    "        Pl = np.array([x, y, 0, 1])\n",
    "        Pr = Trl @ Pl\n",
    "        Pw = Twr @ Pr\n",
    "        return np.array([Pw[0], Pw[1]])\n",
    "\n",
    "    obs = map(laser_read_to_point, obs)\n",
    "\n",
    "    def in_scene(coords):\n",
    "        x, y = coords\n",
    "        # Coordenadas limites da cena: -5, 5\n",
    "        return -5 <= x <= 5 and -5 <= y <= 5\n",
    "\n",
    "    return list(filter(in_scene, obs))\n",
    "\n",
    "# TODO\n",
    "\n",
    "\n",
    "def draw_laser_data(laser_data, ax):\n",
    "    q_obs = getObstaclePositions(laser_data)\n",
    "    for x, y in q_obs:\n",
    "        ax.plot(x, y, 'o', color='g')"
   ]
  },
  {
   "cell_type": "markdown",
   "metadata": {},
   "source": [
    "## Navegação Reativa - Campos Potenciais"
   ]
  },
  {
   "cell_type": "markdown",
   "metadata": {},
   "source": [
    "### Força de Atração\n",
    "$$f_{att}(q) = k_{att} \\cdot (q_{goal} - q)$$"
   ]
  },
  {
   "cell_type": "code",
   "execution_count": 95,
   "metadata": {},
   "outputs": [],
   "source": [
    "def ForceAttraction(q, q_goal, katt=0.1):\n",
    "    return katt * (q_goal - q)"
   ]
  },
  {
   "cell_type": "markdown",
   "metadata": {},
   "source": [
    "### Força de repulsão\n",
    "$$F_{rep,i}(q) = -\\nabla U_{rep,i}(q)$$\n",
    "$$=\\begin{cases}\n",
    "  \\begin{aligned}\n",
    "    \\frac{k_{rep,i}}{\\rho_i^2(q)}\\left( \\frac{1}{\\rho_i(q)} - \\frac{1}{\\rho_{0,i}} \\right)^{\\gamma-1} \\frac{q - q_{obs,i}}{\\rho_i(q)} &, \\textnormal{se } \\rho_i(q) \\le \\rho_{0,i}\\\\\n",
    "    0&, \\textnormal{se } \\rho_i(q) \\gt \\rho_{0,i}\\\\\n",
    "  \\end{aligned}\n",
    "\\end{cases}\n",
    "$$\n"
   ]
  },
  {
   "cell_type": "code",
   "execution_count": 96,
   "metadata": {},
   "outputs": [],
   "source": [
    "LIMIT_RANGE = 0.3\n",
    "\n",
    "def ForceRepulsion(q, q_obs_i, krep=.0005):\n",
    "    d = np.linalg.norm(q - q_obs_i)\n",
    "    if d > LIMIT_RANGE:\n",
    "        return np.array([0.0,0.0])\n",
    "    return (krep / d**2) * ((1/d) - (1/LIMIT_RANGE)) * (q-q_obs_i) / d"
   ]
  },
  {
   "cell_type": "markdown",
   "metadata": {},
   "source": [
    "### Força Resultante \n",
    "$$F(q)  = F_{att}(q) + \\sum_{i=1}^{p}{F_{rep,i}(q)}$$"
   ]
  },
  {
   "cell_type": "code",
   "execution_count": 97,
   "metadata": {},
   "outputs": [],
   "source": [
    "def ForceResult(q,q_goal,q_obs):\n",
    "    ans = ForceAttraction(q,q_goal) \n",
    "    for i in range(len(q_obs)):\n",
    "        ans += ForceRepulsion(q,q_obs[i])\n",
    "    return ans"
   ]
  },
  {
   "cell_type": "markdown",
   "metadata": {},
   "source": [
    "### Controladores\n",
    "- [De Luca e Oriolo, 1994](https://www.researchgate.net/publication/225543929_Control_of_Wheeled_Mobile_Robots_An_Experimental_Overview)\n",
    "$$v = k_v(\\dot x \\cos \\theta + \\dot y \\sin \\theta)$$\n",
    "$$\\omega = k_{\\omega}(atan2(\\dot y,\\dot x) - \\theta)$$\n",
    "$$u = \\begin{bmatrix}\n",
    "   v \\\\\n",
    "   \\omega \n",
    "\\end{bmatrix}\n",
    "$$"
   ]
  },
  {
   "cell_type": "code",
   "execution_count": 98,
   "metadata": {},
   "outputs": [],
   "source": [
    "def deLucaOriolo(force, theta):\n",
    "    kv = 1\n",
    "    kw = .7\n",
    "    Fx, Fy = force\n",
    "    v = kv*(Fx*np.cos(theta) + Fy*np.sin(theta))\n",
    "    w = kw*(np.arctan2(Fy, Fx) - theta)\n",
    "    return [v, w]"
   ]
  },
  {
   "cell_type": "markdown",
   "metadata": {},
   "source": [
    "### Modelo Cinemático - Robô Diferencial\n",
    "$$\\omega_R = \\frac{2v+\\omega L}{2r}$$\n",
    "$$\\omega_L = \\frac{2v-\\omega L}{2r}$$"
   ]
  },
  {
   "cell_type": "code",
   "execution_count": 99,
   "metadata": {},
   "outputs": [],
   "source": [
    "def differentialModel(v, w):\n",
    "    wr = ((2.0*v) + (w*L))/(2.0*r)\n",
    "    wl = ((2.0*v) - (w*L))/(2.0*r)\n",
    "    return [wl, wr]"
   ]
  },
  {
   "cell_type": "markdown",
   "metadata": {},
   "source": [
    "## Movendo o robô\n",
    "O aluno também deverá propor uma\n",
    "estratégia de navegação para que o robô explore o ambiente construindo o mapa. Essa estratégia pode\n",
    "ser simples e baseada nos algoritmos vistos em aula. "
   ]
  },
  {
   "cell_type": "markdown",
   "metadata": {},
   "source": [
    "### Controle Diferencial"
   ]
  },
  {
   "cell_type": "code",
   "execution_count": 100,
   "metadata": {},
   "outputs": [],
   "source": [
    "def perform_control(q,q_goal):\n",
    "    laser_data = getLaserData()\n",
    "    q_obs = getObstaclePositions(laser_data)\n",
    "    force = ForceResult(q,q_goal,q_obs) \n",
    "    \n",
    "    theta = getObjectAngle(robot)\n",
    "    # Controle Cinematico\n",
    "    [v,w] = deLucaOriolo(force,theta)\n",
    "    # Cinematica inversa\n",
    "    [wl,wr] = differentialModel(v,w)\n",
    "    # Enviando velocidades\n",
    "    sim.setJointTargetVelocity(left_motor,wl)\n",
    "    sim.setJointTargetVelocity(right_motor,wr)"
   ]
  },
  {
   "cell_type": "markdown",
   "metadata": {},
   "source": [
    "### Simulacao"
   ]
  },
  {
   "cell_type": "code",
   "execution_count": 101,
   "metadata": {},
   "outputs": [],
   "source": [
    "\n",
    "def runSimulation(known_goals, MAX_SIMULATION_TIME=300,RECORD_PLOT=False):\n",
    "\n",
    "    sim.stopSimulation()\n",
    "    sim.startSimulation()\n",
    "\n",
    "    read_cnt = 0\n",
    "    goal_idx = 0\n",
    "    ngx, ngy = known_goals[goal_idx]\n",
    "    sim.setObjectPosition(goal_object, [ngx, ngy, 0])\n",
    "\n",
    "    # Recording points\n",
    "    robot_xs = []\n",
    "    robot_ys = []\n",
    "    seen_points = set()\n",
    "\n",
    "    while (t := sim.getSimulationTime()) < MAX_SIMULATION_TIME:\n",
    "        q = getObjectXY(robot)\n",
    "        q_goal = getObjectXY(goal_object)\n",
    "\n",
    "        error = np.linalg.norm(q_goal - q)\n",
    "        if error < 0.3:\n",
    "            print(f\"Goal reached: {known_goals[goal_idx]}\")\n",
    "            goal_idx += 1\n",
    "\n",
    "            # End of track\n",
    "            if goal_idx >= len(known_goals):\n",
    "                break\n",
    "\n",
    "            ngx, ngy = known_goals[goal_idx]\n",
    "            sim.setObjectPosition(goal_object, [ngx, ngy, 0])\n",
    "\n",
    "        # Calcular Occupancy Grid\n",
    "        read_cnt += 1\n",
    "        if read_cnt == 20:\n",
    "            read_cnt = 0\n",
    "            # Pontos de obstaculo na cena\n",
    "            xo, yo = sceneToGrid(q)\n",
    "            laser_data = getLaserData()\n",
    "            obstacles = getObstaclePositions(laser_data)\n",
    "\n",
    "            # Para cada obstaculo, atualizar occupancy\n",
    "            for sx, sy in obstacles:\n",
    "                if RECORD_PLOT:\n",
    "                    seen_points.add((round(sx, 1), round(sy, 1)))\n",
    "                xf, yf = sceneToGrid((sx, sy))\n",
    "                occupancy_grid_mapping(xo, yo, xf, yf)\n",
    "\n",
    "        perform_control(q, q_goal)\n",
    "\n",
    "        if RECORD_PLOT:\n",
    "            robot_xs.append(q[0])\n",
    "            robot_ys.append(q[1])\n",
    "        sim.step()\n",
    "\n",
    "    # Stop\n",
    "    sim.setJointTargetVelocity(left_motor, 0)\n",
    "    sim.setJointTargetVelocity(right_motor, 0)\n",
    "    sim.stopSimulation()\n",
    "\n",
    "    return robot_xs,robot_ys, seen_points\n",
    "\n",
    "def create_incremental_plot(robot_xs,robot_ys,seen_points,testname=None):\n",
    "    fig, ax = plt.subplots(figsize=(8, 8), dpi=100)\n",
    "    ax.set_aspect('equal')\n",
    "    for sx, sy in seen_points:\n",
    "        ax.plot(sx, sy, marker='s', color='black')\n",
    "    ax.grid()\n",
    "    ax.plot(robot_xs,robot_ys)\n",
    "    ax.set_xlim([-5, 5])\n",
    "    ax.set_ylim([-5, 5])\n",
    "    if testname != None:\n",
    "        plt.savefig(f\"../images/plot-{testname}.png\")\n",
    "    \n"
   ]
  },
  {
   "cell_type": "markdown",
   "metadata": {},
   "source": [
    "## Testes"
   ]
  },
  {
   "cell_type": "code",
   "execution_count": 102,
   "metadata": {},
   "outputs": [
    {
     "name": "stdout",
     "output_type": "stream",
     "text": [
      "Goal reached: (-0.75, 3)\n",
      "Goal reached: (-0.75, 2)\n",
      "Goal reached: (-0.75, 0.9)\n",
      "Goal reached: (-4.5, 0.4)\n",
      "Goal reached: (-4.5, -1.6)\n",
      "Goal reached: (-2.75, -1.65)\n",
      "Goal reached: (-2.85, -4.5)\n",
      "Goal reached: (-0.5, -4.6)\n",
      "Goal reached: (-0.5, -1.5)\n",
      "Goal reached: (0.7, 0.3)\n",
      "Goal reached: (0.75, 3.5)\n",
      "Goal reached: (2.5, 1.5)\n",
      "Goal reached: (3.5, -0.8)\n",
      "Goal reached: (3.8, -4.2)\n"
     ]
    },
    {
     "data": {
      "image/png": "[encoded data removed]",
      "text/plain": [
       "<Figure size 800x800 with 2 Axes>"
      ]
     },
     "metadata": {},
     "output_type": "display_data"
    },
    {
     "data": {
      "image/png": "[encoded data removed]",
      "text/plain": [
       "<Figure size 800x800 with 1 Axes>"
      ]
     },
     "metadata": {},
     "output_type": "display_data"
    }
   ],
   "source": [
    "TEST_NUMBER = 1\n",
    "\n",
    "\n",
    "# Test 1\n",
    "if TEST_NUMBER == 1:\n",
    "    sim.setObjectPosition(robot, [-0.881, 4.355, 0])\n",
    "    known_goals = [\n",
    "        (-0.75, 3),\n",
    "        (-0.75, 2),\n",
    "        (-0.75, 0.9),\n",
    "        (-4.5, 0.4),\n",
    "        (-4.5, -1.6),\n",
    "        (-2.75, -1.65),\n",
    "        (-2.85, -4.5),\n",
    "        (-0.5, -4.6),\n",
    "        (-0.5, -1.5),\n",
    "        (0.7, 0.3),\n",
    "        (0.75, 3.5),\n",
    "        (2.5, 1.5),\n",
    "        (3.5, -0.8),\n",
    "        (3.8, -4.2)\n",
    "    ]\n",
    "\n",
    "else:\n",
    "    sim.setObjectPosition(robot, [3.3, 4, 0])\n",
    "    known_goals = [\n",
    "        (3,4),\n",
    "        (1,3.8),\n",
    "        (1.1,0.5),\n",
    "        (1.0,-4.6),\n",
    "        (-1.0,-4.6),\n",
    "        (-4.5,-4.0)\n",
    "    ]\n",
    "\n",
    "rxs,rys,sps=runSimulation(known_goals,RECORD_PLOT=True)\n",
    "show_occupancy_grid()\n",
    "create_incremental_plot(rxs,rys,sps)"
   ]
  }
 ],
 "metadata": {
  "kernelspec": {
   "display_name": "venv",
   "language": "python",
   "name": "python3"
  },
  "language_info": {
   "codemirror_mode": {
    "name": "ipython",
    "version": 3
   },
   "file_extension": ".py",
   "mimetype": "text/x-python",
   "name": "python",
   "nbconvert_exporter": "python",
   "pygments_lexer": "ipython3",
   "version": "3.10.12"
  }
 },
 "nbformat": 4,
 "nbformat_minor": 2
}
