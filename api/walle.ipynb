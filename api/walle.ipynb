{
 "cells": [
  {
   "cell_type": "markdown",
   "metadata": {},
   "source": [
    "# Sistema Multi-Robôs para Cobertura Eficiente de Ambientes Domésticos\n",
    "\n",
    "- Bernardo Nogueira Borges\n",
    "- Daniele Cássia Silva Diniz\n",
    "\n",
    "Uma aplicação relevante na área de robótica é a dos robôs aspiradores, que têm a\n",
    "função de percorrer o ambiente doméstico de forma autônoma, recolhendo detritos\n",
    "ao longo do caminho. Este projeto abordará o problema de cobertura no contexto de\n",
    "sistemas multi-robôs, com o objetivo de dividir a tarefa entre dois robôs. Um dos\n",
    "principais desafios nesta área é garantir que os robôs executem seu trajeto de forma\n",
    "eficiente, evitando a movimentação aleatória pelo espaço, como observado em\n",
    "robôs aspiradores convencionais, conforme demonstrado no [vídeo](https://www.youtube.com/watch?v=qHEJhJ_CuOQ) da Neato\n",
    "Robotics\n",
    "\n",
    "Para superar esses desafios, utilizaremos nosso conhecimento em mapeamento,\n",
    "controle e algoritmos para desenvolver um sistema de multi-robôs que abordará o\n",
    "problema de **cobertura** do ambiente de forma eficaz, completa e, adicionalmente,\n",
    "enfrentaremos o desafio de implementar a colaboração entre os robôs. A\n",
    "implementação será realizada utilizando a linguagem **Python** e o simulador\n",
    "**CoppeliaSim**.\n",
    "\n",
    "Abordar este problema é crucial para aumentar a eficiência energética e reduzir a\n",
    "pegada de carbono dos robôs aspiradores domésticos. Um planejamento adequado\n",
    "permite que esses robôs executem suas tarefas de maneira mais rápida e eficiente,\n",
    "contribuindo significativamente para a sustentabilidade ambiental. As principais\n",
    "aplicações incluem a limpeza autônoma em residências, escritórios e outros\n",
    "espaços fechados onde a manutenção regular é necessária."
   ]
  },
  {
   "cell_type": "code",
   "execution_count": 1,
   "metadata": {},
   "outputs": [],
   "source": [
    "# from coppeliasim_zmqremoteapi_client import RemoteAPIClient\n",
    "import numpy as np\n",
    "\n",
    "# client = RemoteAPIClient()\n",
    "# sim = client.require('sim')"
   ]
  },
  {
   "cell_type": "markdown",
   "metadata": {},
   "source": [
    "## Obtendo o Mapa da Residência"
   ]
  },
  {
   "cell_type": "markdown",
   "metadata": {},
   "source": [
    "## Wavefront Planner"
   ]
  },
  {
   "cell_type": "code",
   "execution_count": 14,
   "metadata": {},
   "outputs": [
    {
     "name": "stdout",
     "output_type": "stream",
     "text": [
      "[[0 0 0 1 0 0 0 1 0 0 0]\n",
      " [0 0 0 0 0 0 0 1 0 0 0]\n",
      " [0 0 0 1 0 0 0 1 0 0 0]\n",
      " [1 1 1 1 1 0 1 1 1 0 1]\n",
      " [0 0 0 1 0 0 0 1 0 0 0]\n",
      " [0 0 0 0 0 0 0 0 0 0 0]\n",
      " [0 0 0 1 0 0 0 1 0 0 0]\n",
      " [1 0 1 1 1 0 1 1 1 1 1]\n",
      " [0 0 0 1 0 0 0 1 0 0 0]\n",
      " [0 0 0 1 0 0 0 0 0 0 0]\n",
      " [0 0 0 1 0 0 0 1 0 0 0]]\n",
      "11 11\n"
     ]
    }
   ],
   "source": [
    "# OCCUPY = np.array([\n",
    "#     [0,0,0,0,0,0,0,0],\n",
    "#     [0,0,0,1,1,1,0,0],\n",
    "#     [0,0,0,1,1,1,0,0],\n",
    "#     [0,0,0,0,0,0,0,0]\n",
    "# ])\n",
    "\n",
    "# OCCUPY = np.array([\n",
    "#     [0,0,0,0,0,0,0],\n",
    "#     [0,0,0,0,0,0,0],\n",
    "#     [0,1,1,1,1,1,0],\n",
    "#     [0,0,0,1,0,0,0],\n",
    "#     [0,0,0,1,0,0,0]\n",
    "# ])\n",
    "\n",
    "OCCUPY = np.array([\n",
    "    [0,0,0,1,0,0,0,1,0,0,0],\n",
    "    [0,0,0,0,0,0,0,1,0,0,0],\n",
    "    [0,0,0,1,0,0,0,1,0,0,0],\n",
    "    [1,1,1,1,1,0,1,1,1,0,1],\n",
    "    [0,0,0,1,0,0,0,1,0,0,0],\n",
    "    [0,0,0,0,0,0,0,0,0,0,0],\n",
    "    [0,0,0,1,0,0,0,1,0,0,0],\n",
    "    [1,0,1,1,1,0,1,1,1,1,1],\n",
    "    [0,0,0,1,0,0,0,1,0,0,0],\n",
    "    [0,0,0,1,0,0,0,0,0,0,0],\n",
    "    [0,0,0,1,0,0,0,1,0,0,0]\n",
    "])\n",
    "\n",
    "\n",
    "N = len(OCCUPY)\n",
    "M = len(OCCUPY[0])\n",
    "\n",
    "print(OCCUPY)\n",
    "print(N,M)\n",
    "\n",
    "#          UP   RIGHT DOWN  LEFT \n",
    "moves = [(-1,0),(0,1),(1,0),(0,-1)]\n",
    "\n",
    "def validCell(i,j):\n",
    "    return 0 <= i < N and 0 <= j < M and OCCUPY[i][j] == 0\n"
   ]
  },
  {
   "cell_type": "code",
   "execution_count": 15,
   "metadata": {},
   "outputs": [
    {
     "name": "stdout",
     "output_type": "stream",
     "text": [
      "[[2. 2. 2. 0. 2. 2. 2. 0. 1. 1. 1.]\n",
      " [2. 2. 2. 2. 2. 2. 2. 0. 1. 1. 1.]\n",
      " [2. 2. 2. 0. 2. 2. 2. 0. 1. 1. 1.]\n",
      " [0. 0. 0. 0. 0. 2. 0. 0. 0. 1. 0.]\n",
      " [1. 1. 1. 0. 2. 2. 2. 0. 1. 1. 1.]\n",
      " [1. 1. 1. 1. 1. 1. 1. 1. 1. 1. 1.]\n",
      " [1. 1. 1. 0. 1. 1. 1. 0. 1. 1. 1.]\n",
      " [0. 1. 0. 0. 0. 1. 0. 0. 0. 0. 0.]\n",
      " [1. 1. 1. 0. 1. 1. 1. 0. 1. 1. 1.]\n",
      " [1. 1. 1. 0. 1. 1. 1. 1. 1. 1. 1.]\n",
      " [1. 1. 1. 0. 1. 1. 1. 0. 1. 1. 1.]]\n"
     ]
    }
   ],
   "source": [
    "from enum import Enum\n",
    "class Color(Enum):\n",
    "    UNSET = 0\n",
    "    RED = 1\n",
    "    BLUE = 2\n",
    "\n",
    "COLOR_GRAPH = np.zeros(shape=OCCUPY.shape)\n",
    "\n",
    "def bfs_multi(blue_src,red_src):\n",
    "    q = [blue_src,red_src]\n",
    "    while q:\n",
    "        (i,j,c) = q.pop(0)\n",
    "        COLOR_GRAPH[i][j] = c.value\n",
    "\n",
    "        # Each cell 4-Connect\n",
    "        for (di,dj) in moves:\n",
    "            di += i\n",
    "            dj += j\n",
    "\n",
    "            # Out of bounds\n",
    "            if not validCell(di,dj): continue\n",
    "            # Already visited\n",
    "            if COLOR_GRAPH[di][dj] != Color.UNSET.value: continue\n",
    "\n",
    "            q.append((di,dj,c))\n",
    "    \n",
    "def colorize():\n",
    "    blue_src = None\n",
    "    for i in range(N):\n",
    "        for j in range(M):\n",
    "            if OCCUPY[i][j] == 0:\n",
    "                blue_src = (i,j,Color.BLUE)\n",
    "                break\n",
    "        if blue_src != None: break\n",
    "\n",
    "    if blue_src == None:\n",
    "        print(\"Could not find a blue_src\")\n",
    "        return\n",
    "    \n",
    "    red_src = None\n",
    "    for i in reversed(range(N)):\n",
    "        for j in reversed(range(M)):\n",
    "            if OCCUPY[i][j] == 0 and (i,j) != (blue_src[0],blue_src[1]):\n",
    "                red_src = (i,j,Color.RED)\n",
    "                break\n",
    "        if red_src != None: break\n",
    "\n",
    "    if red_src == None:\n",
    "        print(\"Could not find a red_src\")\n",
    "        return\n",
    "    \n",
    "    bfs_multi(blue_src,red_src)\n",
    "\n",
    "colorize()\n",
    "print(COLOR_GRAPH)"
   ]
  },
  {
   "cell_type": "code",
   "execution_count": 3,
   "metadata": {},
   "outputs": [
    {
     "name": "stdout",
     "output_type": "stream",
     "text": [
      "[[    0     1     2     3     4     5     6     7]\n",
      " [    1     2     3 99999 99999 99999     7     8]\n",
      " [    2     3     4 99999 99999 99999     8     9]\n",
      " [    3     4     5     6     7     8     9    10]]\n",
      "Wall-e:\t(0,5)\n",
      "Mo :\t(6,10)\n"
     ]
    }
   ],
   "source": [
    "# Get first free cell\n",
    "FIRST_CELL = None\n",
    "for i in range(N):\n",
    "    for j in range(M):\n",
    "        if OCCUPY[i][j] == 0:\n",
    "            FIRST_CELL = (i,j)\n",
    "            break\n",
    "    if FIRST_CELL != None:\n",
    "        break\n",
    "\n",
    "# Start wavefront algorithm\n",
    "INF_VAL = 99999\n",
    "WAVEFRONT = np.full_like(OCCUPY,INF_VAL)\n",
    "def wavefrontPlanner(i0,j0):\n",
    "    q = []\n",
    "    q.append((i0,j0,0))\n",
    "    WAVEFRONT[i0][j0] = 0\n",
    "    max_k = 0\n",
    "\n",
    "    while q:\n",
    "        (i,j,k) = q.pop(0)\n",
    "        max_k = max(max_k,k)\n",
    "\n",
    "        # Each cell 4-Connect\n",
    "        for (di,dj) in moves:\n",
    "            di += i\n",
    "            dj += j\n",
    "\n",
    "            # Out of bounds\n",
    "            if not validCell(di,dj): continue\n",
    "            # Already visited\n",
    "            if WAVEFRONT[di][dj] != INF_VAL: continue\n",
    "\n",
    "            WAVEFRONT[di][dj] = k + 1\n",
    "            q.append((di,dj,k+1))\n",
    "    \n",
    "    return max_k\n",
    "\n",
    "K = wavefrontPlanner(FIRST_CELL[0],FIRST_CELL[1])\n",
    "print(WAVEFRONT)\n",
    "\n",
    "walle_range = (0,K//2)\n",
    "print(f\"Wall-e:\\t({walle_range[0]},{walle_range[1]})\")\n",
    "mo_range = (K//2+1,K)\n",
    "print(f\"Mo :\\t({mo_range[0]},{mo_range[1]})\")"
   ]
  },
  {
   "cell_type": "markdown",
   "metadata": {},
   "source": [
    "## Iniciando os Robôs"
   ]
  },
  {
   "cell_type": "markdown",
   "metadata": {},
   "source": [
    "## Controle para andar entre células"
   ]
  },
  {
   "cell_type": "markdown",
   "metadata": {},
   "source": [
    "## Simulação"
   ]
  }
 ],
 "metadata": {
  "kernelspec": {
   "display_name": ".venv",
   "language": "python",
   "name": "python3"
  },
  "language_info": {
   "codemirror_mode": {
    "name": "ipython",
    "version": 3
   },
   "file_extension": ".py",
   "mimetype": "text/x-python",
   "name": "python",
   "nbconvert_exporter": "python",
   "pygments_lexer": "ipython3",
   "version": "3.10.12"
  }
 },
 "nbformat": 4,
 "nbformat_minor": 2
}
