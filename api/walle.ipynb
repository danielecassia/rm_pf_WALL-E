{
 "cells": [
  {
   "cell_type": "markdown",
   "metadata": {},
   "source": [
    "# Sistema Multi-Robôs para Cobertura Eficiente de Ambientes Domésticos\n",
    "\n",
    "- Bernardo Nogueira Borges\n",
    "- Daniele Cássia Silva Diniz\n",
    "\n",
    "Uma aplicação relevante na área de robótica é a dos robôs aspiradores, que têm a\n",
    "função de percorrer o ambiente doméstico de forma autônoma, recolhendo detritos\n",
    "ao longo do caminho. Este projeto abordará o problema de cobertura no contexto de\n",
    "sistemas multi-robôs, com o objetivo de dividir a tarefa entre dois robôs. Um dos\n",
    "principais desafios nesta área é garantir que os robôs executem seu trajeto de forma\n",
    "eficiente, evitando a movimentação aleatória pelo espaço, como observado em\n",
    "robôs aspiradores convencionais, conforme demonstrado no [vídeo](https://www.youtube.com/watch?v=qHEJhJ_CuOQ) da Neato\n",
    "Robotics\n",
    "\n",
    "Para superar esses desafios, utilizaremos nosso conhecimento em mapeamento,\n",
    "controle e algoritmos para desenvolver um sistema de multi-robôs que abordará o\n",
    "problema de **cobertura** do ambiente de forma eficaz, completa e, adicionalmente,\n",
    "enfrentaremos o desafio de implementar a colaboração entre os robôs. A\n",
    "implementação será realizada utilizando a linguagem **Python** e o simulador\n",
    "**CoppeliaSim**.\n",
    "\n",
    "Abordar este problema é crucial para aumentar a eficiência energética e reduzir a\n",
    "pegada de carbono dos robôs aspiradores domésticos. Um planejamento adequado\n",
    "permite que esses robôs executem suas tarefas de maneira mais rápida e eficiente,\n",
    "contribuindo significativamente para a sustentabilidade ambiental. As principais\n",
    "aplicações incluem a limpeza autônoma em residências, escritórios e outros\n",
    "espaços fechados onde a manutenção regular é necessária."
   ]
  },
  {
   "cell_type": "code",
   "execution_count": 1,
   "metadata": {},
   "outputs": [],
   "source": [
    "from coppeliasim_zmqremoteapi_client import RemoteAPIClient\n",
    "\n",
    "client = RemoteAPIClient()\n",
    "sim = client.require('sim')"
   ]
  },
  {
   "cell_type": "markdown",
   "metadata": {},
   "source": [
    "## Obtendo o Mapa da Residência"
   ]
  },
  {
   "cell_type": "markdown",
   "metadata": {},
   "source": [
    "## Wavefront Planner"
   ]
  },
  {
   "cell_type": "markdown",
   "metadata": {},
   "source": [
    "## Iniciando os Robôs"
   ]
  },
  {
   "cell_type": "markdown",
   "metadata": {},
   "source": [
    "## Controle para andar entre células"
   ]
  },
  {
   "cell_type": "markdown",
   "metadata": {},
   "source": [
    "## Simulação"
   ]
  }
 ],
 "metadata": {
  "kernelspec": {
   "display_name": ".venv",
   "language": "python",
   "name": "python3"
  },
  "language_info": {
   "codemirror_mode": {
    "name": "ipython",
    "version": 3
   },
   "file_extension": ".py",
   "mimetype": "text/x-python",
   "name": "python",
   "nbconvert_exporter": "python",
   "pygments_lexer": "ipython3",
   "version": "3.10.12"
  }
 },
 "nbformat": 4,
 "nbformat_minor": 2
}
