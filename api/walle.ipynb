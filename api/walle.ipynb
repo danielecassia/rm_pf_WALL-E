{
 "cells": [
  {
   "cell_type": "markdown",
   "metadata": {},
   "source": [
    "# Sistema Multi-Robôs para Cobertura Eficiente de Ambientes Domésticos\n",
    "\n",
    "- Bernardo Nogueira Borges\n",
    "- Daniele Cássia Silva Diniz\n",
    "\n",
    "Uma aplicação relevante na área de robótica é a dos robôs aspiradores, que têm a\n",
    "função de percorrer o ambiente doméstico de forma autônoma, recolhendo detritos\n",
    "ao longo do caminho. Este projeto abordará o problema de cobertura no contexto de\n",
    "sistemas multi-robôs, com o objetivo de dividir a tarefa entre dois robôs. Um dos\n",
    "principais desafios nesta área é garantir que os robôs executem seu trajeto de forma\n",
    "eficiente, evitando a movimentação aleatória pelo espaço, como observado em\n",
    "robôs aspiradores convencionais, conforme demonstrado no [vídeo](https://www.youtube.com/watch?v=qHEJhJ_CuOQ) da Neato\n",
    "Robotics\n",
    "\n",
    "Para superar esses desafios, utilizaremos nosso conhecimento em mapeamento,\n",
    "controle e algoritmos para desenvolver um sistema de multi-robôs que abordará o\n",
    "problema de **cobertura** do ambiente de forma eficaz, completa e, adicionalmente,\n",
    "enfrentaremos o desafio de implementar a colaboração entre os robôs. A\n",
    "implementação será realizada utilizando a linguagem **Python** e o simulador\n",
    "**CoppeliaSim**.\n",
    "\n",
    "Abordar este problema é crucial para aumentar a eficiência energética e reduzir a\n",
    "pegada de carbono dos robôs aspiradores domésticos. Um planejamento adequado\n",
    "permite que esses robôs executem suas tarefas de maneira mais rápida e eficiente,\n",
    "contribuindo significativamente para a sustentabilidade ambiental. As principais\n",
    "aplicações incluem a limpeza autônoma em residências, escritórios e outros\n",
    "espaços fechados onde a manutenção regular é necessária."
   ]
  },
  {
   "cell_type": "code",
   "execution_count": 66,
   "metadata": {},
   "outputs": [],
   "source": [
    "from coppeliasim_zmqremoteapi_client import RemoteAPIClient\n",
    "import numpy as np\n",
    "import matplotlib.pyplot as plt\n",
    "\n",
    "client = RemoteAPIClient()\n",
    "sim = client.require('sim')\n",
    "np.set_printoptions(precision=3,suppress=True)"
   ]
  },
  {
   "cell_type": "markdown",
   "metadata": {},
   "source": [
    "## Obtendo o Mapa da Residência"
   ]
  },
  {
   "cell_type": "markdown",
   "metadata": {},
   "source": [
    "## Colored Planner"
   ]
  },
  {
   "cell_type": "code",
   "execution_count": 67,
   "metadata": {},
   "outputs": [],
   "source": [
    "from enum import Enum\n",
    "\n",
    "\n",
    "class Color(Enum):\n",
    "    UNSET = 0\n",
    "    RED = 1\n",
    "    BLUE = 2\n",
    "\n",
    "\n",
    "#          UP     RIGHT    DOWN   LEFT\n",
    "moves = [(-1, 0), (0, 1), (1, 0), (0, -1)]\n",
    "\n",
    "\n",
    "def validCell(i, j, G):\n",
    "    N = len(G)\n",
    "    M = len(G[0])\n",
    "    return 0 <= i < N \\\n",
    "        and 0 <= j < M \\\n",
    "        and G[i][j] == 0\n",
    "\n",
    "def bfs_multi(blue_src, red_src, G):\n",
    "    COLOR_GRAPH = np.zeros(shape=G.shape)\n",
    "\n",
    "    q = [blue_src, red_src]\n",
    "    while q:\n",
    "        (i, j, c) = q.pop(0)\n",
    "\n",
    "        if COLOR_GRAPH[i][j] != Color.UNSET.value:\n",
    "            continue\n",
    "\n",
    "        COLOR_GRAPH[i][j] = c.value\n",
    "\n",
    "        # Each cell 4-Connect\n",
    "        for (di, dj) in moves:\n",
    "            di += i\n",
    "            dj += j\n",
    "\n",
    "            # Out of bounds\n",
    "            if not validCell(di, dj, G):\n",
    "                continue\n",
    "\n",
    "            # Already visited\n",
    "            if COLOR_GRAPH[di][dj] != Color.UNSET.value:\n",
    "                continue\n",
    "\n",
    "            q.append((di, dj, c))\n",
    "\n",
    "    return COLOR_GRAPH\n",
    "\n",
    "\n",
    "def colorize(G):\n",
    "    N = len(G)\n",
    "    M = len(G[0])\n",
    "    blue_src = None\n",
    "    for i in range(N):\n",
    "        for j in range(M):\n",
    "            if G[i][j] == 0:\n",
    "                blue_src = (i, j, Color.BLUE)\n",
    "                break\n",
    "        if blue_src != None:\n",
    "            break\n",
    "\n",
    "    if blue_src == None:\n",
    "        print(\"Could not find a blue_src\")\n",
    "        return\n",
    "\n",
    "    red_src = None\n",
    "    for i in reversed(range(N)):\n",
    "        for j in reversed(range(M)):\n",
    "            if G[i][j] == 0 and (i, j) != (blue_src[0], blue_src[1]):\n",
    "                red_src = (i, j, Color.RED)\n",
    "                break\n",
    "        if red_src != None:\n",
    "            break\n",
    "\n",
    "    if red_src == None:\n",
    "        print(\"Could not find a red_src\")\n",
    "        return\n",
    "\n",
    "    return bfs_multi(blue_src, red_src, G)\n",
    "\n",
    "\n",
    "def plot_color_graph(CG):\n",
    "    N = len(CG)\n",
    "    M = len(CG[0])\n",
    "\n",
    "    # Create a colormap with specified colors\n",
    "    cmap = plt.cm.colors.ListedColormap(['gray', 'blue', 'red'])\n",
    "    bounds = [-0.5, 0.5, 1.5, 2.5]\n",
    "    norm = plt.cm.colors.BoundaryNorm(bounds, cmap.N)\n",
    "\n",
    "    # Create the plot\n",
    "    plt.figure(figsize=(6*(M/N), 6))\n",
    "    plt.imshow(CG, cmap=cmap, norm=norm)\n",
    "    plt.colorbar(ticks=[0, 1, 2])\n",
    "    plt.show()"
   ]
  },
  {
   "cell_type": "code",
   "execution_count": 68,
   "metadata": {},
   "outputs": [
    {
     "data": {
      "image/png": "[encoded data removed]",
      "text/plain": [
       "<Figure size 600x600 with 2 Axes>"
      ]
     },
     "metadata": {},
     "output_type": "display_data"
    }
   ],
   "source": [
    "G = np.array([\n",
    "    [0,0,0,0,0,0,0,0,0,0,0,0,0,0,0,0,0,0,0,0],\n",
    "    [0,0,0,0,0,0,0,0,0,0,0,0,0,0,0,0,0,0,0,0],\n",
    "    [0,0,0,0,0,0,0,0,0,0,0,0,0,0,0,0,0,0,0,0],\n",
    "    [0,0,0,0,0,0,0,0,0,0,0,0,0,0,0,0,0,0,0,0],\n",
    "    [0,0,0,0,0,0,0,0,0,0,0,0,0,0,0,0,0,0,0,0],\n",
    "    [0,0,0,0,0,0,0,0,0,0,0,0,0,0,0,0,0,0,0,0],\n",
    "    [0,0,0,0,0,0,0,0,0,0,0,0,0,0,0,0,0,0,0,0],\n",
    "\n",
    "    [0,0,0,0,0,0,1,1,1,1,1,1,1,0,0,0,0,0,0,0],\n",
    "    [0,0,0,0,1,1,1,1,1,1,1,1,1,1,1,0,0,0,0,0],\n",
    "    [0,0,0,0,1,1,1,1,1,1,1,1,1,1,1,0,0,0,0,0],\n",
    "\n",
    "    [0,0,0,1,1,1,1,1,1,1,1,1,1,1,1,1,0,0,0,0],\n",
    "    [0,0,0,1,1,1,1,1,1,1,1,1,1,1,1,1,0,0,0,0],\n",
    "    [0,0,0,0,1,1,1,1,1,1,1,1,1,1,1,0,0,0,0,0],\n",
    "    [0,0,0,0,0,0,1,1,1,1,1,1,1,0,0,0,0,0,0,0],\n",
    "    [0,0,0,0,0,0,1,1,1,1,1,1,1,0,0,0,0,0,0,0],\n",
    "\n",
    "    [0,0,0,0,0,0,0,0,0,0,0,0,0,0,0,0,0,0,0,0],\n",
    "    [0,0,0,0,0,0,0,0,0,0,0,0,0,0,0,0,0,0,0,0],\n",
    "    [0,0,0,0,0,0,0,0,0,0,0,0,0,0,0,0,0,0,0,0],\n",
    "    [0,0,0,0,0,0,0,0,0,0,0,0,0,0,0,0,0,0,0,0],\n",
    "    [0,0,0,0,0,0,0,0,0,0,0,0,0,0,0,0,0,0,0,0]\n",
    "])\n",
    "\n",
    "CG = colorize(G)\n",
    "plot_color_graph(CG)"
   ]
  },
  {
   "cell_type": "code",
   "execution_count": 39,
   "metadata": {},
   "outputs": [
    {
     "data": {
      "image/png": "[encoded data removed]",
      "text/plain": [
       "<Figure size 840x600 with 2 Axes>"
      ]
     },
     "metadata": {},
     "output_type": "display_data"
    }
   ],
   "source": [
    "G = np.array([\n",
    "    [0,0,0,0,0,0,0],\n",
    "    [0,0,0,0,0,0,0],\n",
    "    [0,1,1,1,1,1,0],\n",
    "    [0,0,0,1,0,0,0],\n",
    "    [0,0,0,1,0,0,0]\n",
    "])\n",
    "\n",
    "CG = colorize(G)\n",
    "plot_color_graph(CG)"
   ]
  },
  {
   "cell_type": "code",
   "execution_count": 40,
   "metadata": {},
   "outputs": [
    {
     "data": {
      "image/png": "[encoded data removed]",
      "text/plain": [
       "<Figure size 600x600 with 2 Axes>"
      ]
     },
     "metadata": {},
     "output_type": "display_data"
    }
   ],
   "source": [
    "G = np.array([\n",
    "    [0,0,0,1,0,0,0,1,0,0,0],\n",
    "    [0,0,0,0,0,0,0,1,0,0,0],\n",
    "    [0,0,0,1,0,0,0,1,0,0,0],\n",
    "    [1,1,1,1,1,0,1,1,1,0,1],\n",
    "    [0,0,0,1,0,0,0,1,0,0,0],\n",
    "    [0,0,0,0,0,0,0,0,0,0,0],\n",
    "    [0,0,0,1,0,0,0,1,0,0,0],\n",
    "    [1,0,1,1,1,0,1,1,1,1,1],\n",
    "    [0,0,0,1,0,0,0,1,0,0,0],\n",
    "    [0,0,0,1,0,0,0,0,0,0,0],\n",
    "    [0,0,0,1,0,0,0,1,0,0,0]\n",
    "])\n",
    "\n",
    "CG = colorize(G)\n",
    "plot_color_graph(CG)"
   ]
  },
  {
   "cell_type": "markdown",
   "metadata": {},
   "source": [
    "## Iniciando os Robôs"
   ]
  },
  {
   "cell_type": "code",
   "execution_count": 41,
   "metadata": {},
   "outputs": [
    {
     "name": "stdout",
     "output_type": "stream",
     "text": [
      "WALL_E 44 56 61\n",
      "M_O 81 93 98\n"
     ]
    }
   ],
   "source": [
    "def Rz(theta):\n",
    "    return np.array(\n",
    "        [[np.cos(theta), -np.sin(theta), 0],\n",
    "         [np.sin(theta), np.cos(theta), 0],\n",
    "         [0, 0, 1]])\n",
    "\n",
    "\n",
    "class Robot():\n",
    "    def __init__(self, name):\n",
    "        self.name = name\n",
    "        self.object = sim.getObject(f\"/{name}\")\n",
    "        self.L = 0.230\n",
    "        self.r = 0.03\n",
    "        self.left_motor = sim.getObject(f\"/{name}/kobuki_leftMotor\")\n",
    "        self.right_motor = sim.getObject(f\"/{name}/kobuki_rightMotor\")\n",
    "        self.ERROR_MARGIN = 0.3\n",
    "        self.current_goal = None\n",
    "\n",
    "    def get_current_position(self):\n",
    "        pos = sim.getObjectPosition(self.object)\n",
    "        ori = sim.getObjectOrientation(self.object)\n",
    "        q = np.array([pos[0], pos[1], ori[2]])\n",
    "        return q\n",
    "\n",
    "    def differentialModel(self, v, w):\n",
    "        wr = ((2.0*v) + (w*self.L)) / (2.0*self.r)\n",
    "        wl = ((2.0*v) - (w*self.L)) / (2.0*self.r)\n",
    "        return [wl, wr]\n",
    "\n",
    "    def get_goal_position(self):\n",
    "        pass\n",
    "\n",
    "    def has_reached_goal(self):\n",
    "        if self.current_goal == None:\n",
    "            return True\n",
    "\n",
    "        q = self.get_current_position()\n",
    "        q_goal = self.get_goal_position()\n",
    "        error = q_goal - q\n",
    "        return np.linalg.norm(error[:2]) < self.ERROR_MARGIN\n",
    "\n",
    "    def set_target_velocity(self,wl,wr):\n",
    "        sim.setJointTargetVelocity(self.left_motor, wl)\n",
    "        sim.setJointTargetVelocity(self.right_motor, wr)\n",
    "\n",
    "    def move_to_goal(self):\n",
    "        self.set_target_velocity(1,1)\n",
    "\n",
    "        if self.has_reached_goal():\n",
    "            # find new goal\n",
    "            # if no new goal,\n",
    "            return\n",
    "        \n",
    "        # If angle does not match, turn\n",
    "        # TODO\n",
    "        self.set_target_velocity(-1,1)\n",
    "\n",
    "        # Go forward\n",
    "        # TODO\n",
    "        self.set_target_velocity(1,1)\n",
    "\n",
    "\n",
    "walle = Robot(\"WALL_E\")\n",
    "mo = Robot(\"M_O\")\n",
    "print(walle.name, walle.object, walle.left_motor, walle.right_motor)\n",
    "print(mo.name, mo.object, mo.left_motor, mo.right_motor)"
   ]
  },
  {
   "cell_type": "markdown",
   "metadata": {},
   "source": [
    "## Controle para andar entre células"
   ]
  },
  {
   "cell_type": "markdown",
   "metadata": {},
   "source": [
    "## Simulação"
   ]
  },
  {
   "cell_type": "code",
   "execution_count": 42,
   "metadata": {},
   "outputs": [],
   "source": [
    "sim.stopSimulation()\n",
    "sim.startSimulation()\n",
    "\n",
    "MAX_SIMULATION_TIME = 10\n",
    "\n",
    "while (t := sim.getSimulationTime()) < MAX_SIMULATION_TIME:\n",
    "    walle.move_to_goal()\n",
    "    mo.move_to_goal()\n",
    "    sim.step()\n",
    "\n",
    "sim.stopSimulation()"
   ]
  }
 ],
 "metadata": {
  "kernelspec": {
   "display_name": ".venv",
   "language": "python",
   "name": "python3"
  },
  "language_info": {
   "codemirror_mode": {
    "name": "ipython",
    "version": 3
   },
   "file_extension": ".py",
   "mimetype": "text/x-python",
   "name": "python",
   "nbconvert_exporter": "python",
   "pygments_lexer": "ipython3",
   "version": "3.10.12"
  }
 },
 "nbformat": 4,
 "nbformat_minor": 2
}
